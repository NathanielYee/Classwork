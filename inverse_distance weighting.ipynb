{
 "cells": [
  {
   "cell_type": "code",
   "execution_count": 2,
   "metadata": {
    "collapsed": true,
    "ExecuteTime": {
     "end_time": "2023-05-23T16:33:04.974022Z",
     "start_time": "2023-05-23T16:33:03.726705Z"
    }
   },
   "outputs": [
    {
     "name": "stdout",
     "output_type": "stream",
     "text": [
      "Intel MKL WARNING: Support of Intel(R) Streaming SIMD Extensions 4.2 (Intel(R) SSE4.2) enabled only processors has been deprecated. Intel oneAPI Math Kernel Library 2025.0 will require Intel(R) Advanced Vector Extensions (Intel(R) AVX) instructions.\n",
      "Intel MKL WARNING: Support of Intel(R) Streaming SIMD Extensions 4.2 (Intel(R) SSE4.2) enabled only processors has been deprecated. Intel oneAPI Math Kernel Library 2025.0 will require Intel(R) Advanced Vector Extensions (Intel(R) AVX) instructions.\n"
     ]
    }
   ],
   "source": [
    "import pandas as pd"
   ]
  },
  {
   "cell_type": "code",
   "execution_count": 6,
   "outputs": [
    {
     "data": {
      "text/plain": "  station  dist  temp  day\n0       A     2  30.0    1\n1       B    15  32.0    1\n2       C    20  38.0    1\n3       D  1000  68.0    1\n4       E  1500  79.0    1\n5       A     2  30.0    2\n6       B    15  32.0    2\n7       C    20  38.0    2\n8       D  1000  68.0    2\n9       E  1500  79.0    2",
      "text/html": "<div>\n<style scoped>\n    .dataframe tbody tr th:only-of-type {\n        vertical-align: middle;\n    }\n\n    .dataframe tbody tr th {\n        vertical-align: top;\n    }\n\n    .dataframe thead th {\n        text-align: right;\n    }\n</style>\n<table border=\"1\" class=\"dataframe\">\n  <thead>\n    <tr style=\"text-align: right;\">\n      <th></th>\n      <th>station</th>\n      <th>dist</th>\n      <th>temp</th>\n      <th>day</th>\n    </tr>\n  </thead>\n  <tbody>\n    <tr>\n      <th>0</th>\n      <td>A</td>\n      <td>2</td>\n      <td>30.0</td>\n      <td>1</td>\n    </tr>\n    <tr>\n      <th>1</th>\n      <td>B</td>\n      <td>15</td>\n      <td>32.0</td>\n      <td>1</td>\n    </tr>\n    <tr>\n      <th>2</th>\n      <td>C</td>\n      <td>20</td>\n      <td>38.0</td>\n      <td>1</td>\n    </tr>\n    <tr>\n      <th>3</th>\n      <td>D</td>\n      <td>1000</td>\n      <td>68.0</td>\n      <td>1</td>\n    </tr>\n    <tr>\n      <th>4</th>\n      <td>E</td>\n      <td>1500</td>\n      <td>79.0</td>\n      <td>1</td>\n    </tr>\n    <tr>\n      <th>5</th>\n      <td>A</td>\n      <td>2</td>\n      <td>30.0</td>\n      <td>2</td>\n    </tr>\n    <tr>\n      <th>6</th>\n      <td>B</td>\n      <td>15</td>\n      <td>32.0</td>\n      <td>2</td>\n    </tr>\n    <tr>\n      <th>7</th>\n      <td>C</td>\n      <td>20</td>\n      <td>38.0</td>\n      <td>2</td>\n    </tr>\n    <tr>\n      <th>8</th>\n      <td>D</td>\n      <td>1000</td>\n      <td>68.0</td>\n      <td>2</td>\n    </tr>\n    <tr>\n      <th>9</th>\n      <td>E</td>\n      <td>1500</td>\n      <td>79.0</td>\n      <td>2</td>\n    </tr>\n  </tbody>\n</table>\n</div>"
     },
     "execution_count": 6,
     "metadata": {},
     "output_type": "execute_result"
    }
   ],
   "source": [
    "data_dict = {'station' : ['A','B','C','D','E']*2, 'dist': [2,15,20,1000,1500]*2, 'temp': [30.0,32,38,68.0,79.0]*2, 'day': [1]*5 + [2]*5}\n",
    "data = pd.DataFrame(data_dict)\n",
    "data"
   ],
   "metadata": {
    "collapsed": false,
    "ExecuteTime": {
     "end_time": "2023-05-23T16:34:11.453121Z",
     "start_time": "2023-05-23T16:34:11.445833Z"
    }
   }
  },
  {
   "cell_type": "code",
   "execution_count": 8,
   "outputs": [
    {
     "data": {
      "text/plain": "  station  dist  temp  day\n0       A     2  30.0    1\n1       B    15  32.0    1\n2       C    20  38.0    1\n3       D  1000  68.0    1\n4       E  1500  79.0    1",
      "text/html": "<div>\n<style scoped>\n    .dataframe tbody tr th:only-of-type {\n        vertical-align: middle;\n    }\n\n    .dataframe tbody tr th {\n        vertical-align: top;\n    }\n\n    .dataframe thead th {\n        text-align: right;\n    }\n</style>\n<table border=\"1\" class=\"dataframe\">\n  <thead>\n    <tr style=\"text-align: right;\">\n      <th></th>\n      <th>station</th>\n      <th>dist</th>\n      <th>temp</th>\n      <th>day</th>\n    </tr>\n  </thead>\n  <tbody>\n    <tr>\n      <th>0</th>\n      <td>A</td>\n      <td>2</td>\n      <td>30.0</td>\n      <td>1</td>\n    </tr>\n    <tr>\n      <th>1</th>\n      <td>B</td>\n      <td>15</td>\n      <td>32.0</td>\n      <td>1</td>\n    </tr>\n    <tr>\n      <th>2</th>\n      <td>C</td>\n      <td>20</td>\n      <td>38.0</td>\n      <td>1</td>\n    </tr>\n    <tr>\n      <th>3</th>\n      <td>D</td>\n      <td>1000</td>\n      <td>68.0</td>\n      <td>1</td>\n    </tr>\n    <tr>\n      <th>4</th>\n      <td>E</td>\n      <td>1500</td>\n      <td>79.0</td>\n      <td>1</td>\n    </tr>\n  </tbody>\n</table>\n</div>"
     },
     "execution_count": 8,
     "metadata": {},
     "output_type": "execute_result"
    }
   ],
   "source": [
    "data_1 = data[data.day==1]\n",
    "data_1"
   ],
   "metadata": {
    "collapsed": false,
    "ExecuteTime": {
     "end_time": "2023-05-23T16:35:48.188350Z",
     "start_time": "2023-05-23T16:35:48.184569Z"
    }
   }
  },
  {
   "cell_type": "code",
   "execution_count": 17,
   "outputs": [
    {
     "data": {
      "text/plain": "  station  dist  temp  day  dist_km  dist_km2    total\n0       A     2  30.0    1      3.2      3.22     6.42\n1       B    15  32.0    1     24.0     24.15    48.15\n2       C    20  38.0    1     32.0     32.20    64.20\n3       D  1000  68.0    1   1600.0   1610.00  3210.00\n4       E  1500  79.0    1   2400.0   2415.00  4815.00\n5       A     2  30.0    2      3.2      3.22     6.42\n6       B    15  32.0    2     24.0     24.15    48.15\n7       C    20  38.0    2     32.0     32.20    64.20\n8       D  1000  68.0    2   1600.0   1610.00  3210.00\n9       E  1500  79.0    2   2400.0   2415.00  4815.00",
      "text/html": "<div>\n<style scoped>\n    .dataframe tbody tr th:only-of-type {\n        vertical-align: middle;\n    }\n\n    .dataframe tbody tr th {\n        vertical-align: top;\n    }\n\n    .dataframe thead th {\n        text-align: right;\n    }\n</style>\n<table border=\"1\" class=\"dataframe\">\n  <thead>\n    <tr style=\"text-align: right;\">\n      <th></th>\n      <th>station</th>\n      <th>dist</th>\n      <th>temp</th>\n      <th>day</th>\n      <th>dist_km</th>\n      <th>dist_km2</th>\n      <th>total</th>\n    </tr>\n  </thead>\n  <tbody>\n    <tr>\n      <th>0</th>\n      <td>A</td>\n      <td>2</td>\n      <td>30.0</td>\n      <td>1</td>\n      <td>3.2</td>\n      <td>3.22</td>\n      <td>6.42</td>\n    </tr>\n    <tr>\n      <th>1</th>\n      <td>B</td>\n      <td>15</td>\n      <td>32.0</td>\n      <td>1</td>\n      <td>24.0</td>\n      <td>24.15</td>\n      <td>48.15</td>\n    </tr>\n    <tr>\n      <th>2</th>\n      <td>C</td>\n      <td>20</td>\n      <td>38.0</td>\n      <td>1</td>\n      <td>32.0</td>\n      <td>32.20</td>\n      <td>64.20</td>\n    </tr>\n    <tr>\n      <th>3</th>\n      <td>D</td>\n      <td>1000</td>\n      <td>68.0</td>\n      <td>1</td>\n      <td>1600.0</td>\n      <td>1610.00</td>\n      <td>3210.00</td>\n    </tr>\n    <tr>\n      <th>4</th>\n      <td>E</td>\n      <td>1500</td>\n      <td>79.0</td>\n      <td>1</td>\n      <td>2400.0</td>\n      <td>2415.00</td>\n      <td>4815.00</td>\n    </tr>\n    <tr>\n      <th>5</th>\n      <td>A</td>\n      <td>2</td>\n      <td>30.0</td>\n      <td>2</td>\n      <td>3.2</td>\n      <td>3.22</td>\n      <td>6.42</td>\n    </tr>\n    <tr>\n      <th>6</th>\n      <td>B</td>\n      <td>15</td>\n      <td>32.0</td>\n      <td>2</td>\n      <td>24.0</td>\n      <td>24.15</td>\n      <td>48.15</td>\n    </tr>\n    <tr>\n      <th>7</th>\n      <td>C</td>\n      <td>20</td>\n      <td>38.0</td>\n      <td>2</td>\n      <td>32.0</td>\n      <td>32.20</td>\n      <td>64.20</td>\n    </tr>\n    <tr>\n      <th>8</th>\n      <td>D</td>\n      <td>1000</td>\n      <td>68.0</td>\n      <td>2</td>\n      <td>1600.0</td>\n      <td>1610.00</td>\n      <td>3210.00</td>\n    </tr>\n    <tr>\n      <th>9</th>\n      <td>E</td>\n      <td>1500</td>\n      <td>79.0</td>\n      <td>2</td>\n      <td>2400.0</td>\n      <td>2415.00</td>\n      <td>4815.00</td>\n    </tr>\n  </tbody>\n</table>\n</div>"
     },
     "execution_count": 17,
     "metadata": {},
     "output_type": "execute_result"
    }
   ],
   "source": [
    "# create new column\n",
    "data['dist_km'] = data.dist * 1.6\n",
    "data\n",
    "\n",
    "def mi2km(d):\n",
    "    return d * 1.61\n",
    "\n",
    "def total_distance(d1,d2):\n",
    "    return d1 + d2\n",
    "\n",
    "data['dist_km2'] = data.dist.apply(mi2km)\n",
    "data\n",
    "\n",
    "data['total'] = data.apply(lambda row:total_distance(row.dist_km,row.dist_km2), axis=1)\n",
    "data"
   ],
   "metadata": {
    "collapsed": false,
    "ExecuteTime": {
     "end_time": "2023-05-23T16:45:06.887181Z",
     "start_time": "2023-05-23T16:45:06.870313Z"
    }
   }
  },
  {
   "cell_type": "code",
   "execution_count": 18,
   "outputs": [
    {
     "data": {
      "text/plain": "  station  dist  temp  day\n0       A     2  30.0    1\n1       B    15  32.0    1\n2       C    20  38.0    1\n3       D  1000  68.0    1\n4       E  1500  79.0    1\n5       A     2  30.0    2\n6       B    15  32.0    2\n7       C    20  38.0    2\n8       D  1000  68.0    2\n9       E  1500  79.0    2",
      "text/html": "<div>\n<style scoped>\n    .dataframe tbody tr th:only-of-type {\n        vertical-align: middle;\n    }\n\n    .dataframe tbody tr th {\n        vertical-align: top;\n    }\n\n    .dataframe thead th {\n        text-align: right;\n    }\n</style>\n<table border=\"1\" class=\"dataframe\">\n  <thead>\n    <tr style=\"text-align: right;\">\n      <th></th>\n      <th>station</th>\n      <th>dist</th>\n      <th>temp</th>\n      <th>day</th>\n    </tr>\n  </thead>\n  <tbody>\n    <tr>\n      <th>0</th>\n      <td>A</td>\n      <td>2</td>\n      <td>30.0</td>\n      <td>1</td>\n    </tr>\n    <tr>\n      <th>1</th>\n      <td>B</td>\n      <td>15</td>\n      <td>32.0</td>\n      <td>1</td>\n    </tr>\n    <tr>\n      <th>2</th>\n      <td>C</td>\n      <td>20</td>\n      <td>38.0</td>\n      <td>1</td>\n    </tr>\n    <tr>\n      <th>3</th>\n      <td>D</td>\n      <td>1000</td>\n      <td>68.0</td>\n      <td>1</td>\n    </tr>\n    <tr>\n      <th>4</th>\n      <td>E</td>\n      <td>1500</td>\n      <td>79.0</td>\n      <td>1</td>\n    </tr>\n    <tr>\n      <th>5</th>\n      <td>A</td>\n      <td>2</td>\n      <td>30.0</td>\n      <td>2</td>\n    </tr>\n    <tr>\n      <th>6</th>\n      <td>B</td>\n      <td>15</td>\n      <td>32.0</td>\n      <td>2</td>\n    </tr>\n    <tr>\n      <th>7</th>\n      <td>C</td>\n      <td>20</td>\n      <td>38.0</td>\n      <td>2</td>\n    </tr>\n    <tr>\n      <th>8</th>\n      <td>D</td>\n      <td>1000</td>\n      <td>68.0</td>\n      <td>2</td>\n    </tr>\n    <tr>\n      <th>9</th>\n      <td>E</td>\n      <td>1500</td>\n      <td>79.0</td>\n      <td>2</td>\n    </tr>\n  </tbody>\n</table>\n</div>"
     },
     "execution_count": 18,
     "metadata": {},
     "output_type": "execute_result"
    }
   ],
   "source": [
    "data = data.drop(columns=['dist_km','dist_km2','total'])\n",
    "data"
   ],
   "metadata": {
    "collapsed": false,
    "ExecuteTime": {
     "end_time": "2023-05-23T16:47:05.342098Z",
     "start_time": "2023-05-23T16:47:05.331682Z"
    }
   }
  },
  {
   "cell_type": "code",
   "execution_count": 20,
   "outputs": [
    {
     "data": {
      "text/plain": "  station  dist  temp  day      inv_dist\n0       A     2  30.0    1  2.500000e-01\n1       B    15  32.0    1  4.444444e-03\n2       C    20  38.0    1  2.500000e-03\n3       D  1000  68.0    1  1.000000e-06\n4       E  1500  79.0    1  4.444444e-07\n5       A     2  30.0    2  2.500000e-01\n6       B    15  32.0    2  4.444444e-03\n7       C    20  38.0    2  2.500000e-03\n8       D  1000  68.0    2  1.000000e-06\n9       E  1500  79.0    2  4.444444e-07",
      "text/html": "<div>\n<style scoped>\n    .dataframe tbody tr th:only-of-type {\n        vertical-align: middle;\n    }\n\n    .dataframe tbody tr th {\n        vertical-align: top;\n    }\n\n    .dataframe thead th {\n        text-align: right;\n    }\n</style>\n<table border=\"1\" class=\"dataframe\">\n  <thead>\n    <tr style=\"text-align: right;\">\n      <th></th>\n      <th>station</th>\n      <th>dist</th>\n      <th>temp</th>\n      <th>day</th>\n      <th>inv_dist</th>\n    </tr>\n  </thead>\n  <tbody>\n    <tr>\n      <th>0</th>\n      <td>A</td>\n      <td>2</td>\n      <td>30.0</td>\n      <td>1</td>\n      <td>2.500000e-01</td>\n    </tr>\n    <tr>\n      <th>1</th>\n      <td>B</td>\n      <td>15</td>\n      <td>32.0</td>\n      <td>1</td>\n      <td>4.444444e-03</td>\n    </tr>\n    <tr>\n      <th>2</th>\n      <td>C</td>\n      <td>20</td>\n      <td>38.0</td>\n      <td>1</td>\n      <td>2.500000e-03</td>\n    </tr>\n    <tr>\n      <th>3</th>\n      <td>D</td>\n      <td>1000</td>\n      <td>68.0</td>\n      <td>1</td>\n      <td>1.000000e-06</td>\n    </tr>\n    <tr>\n      <th>4</th>\n      <td>E</td>\n      <td>1500</td>\n      <td>79.0</td>\n      <td>1</td>\n      <td>4.444444e-07</td>\n    </tr>\n    <tr>\n      <th>5</th>\n      <td>A</td>\n      <td>2</td>\n      <td>30.0</td>\n      <td>2</td>\n      <td>2.500000e-01</td>\n    </tr>\n    <tr>\n      <th>6</th>\n      <td>B</td>\n      <td>15</td>\n      <td>32.0</td>\n      <td>2</td>\n      <td>4.444444e-03</td>\n    </tr>\n    <tr>\n      <th>7</th>\n      <td>C</td>\n      <td>20</td>\n      <td>38.0</td>\n      <td>2</td>\n      <td>2.500000e-03</td>\n    </tr>\n    <tr>\n      <th>8</th>\n      <td>D</td>\n      <td>1000</td>\n      <td>68.0</td>\n      <td>2</td>\n      <td>1.000000e-06</td>\n    </tr>\n    <tr>\n      <th>9</th>\n      <td>E</td>\n      <td>1500</td>\n      <td>79.0</td>\n      <td>2</td>\n      <td>4.444444e-07</td>\n    </tr>\n  </tbody>\n</table>\n</div>"
     },
     "execution_count": 20,
     "metadata": {},
     "output_type": "execute_result"
    }
   ],
   "source": [
    "p = 2\n",
    "data['inv_dist'] = 1 / (data.dist**p)\n",
    "data"
   ],
   "metadata": {
    "collapsed": false,
    "ExecuteTime": {
     "end_time": "2023-05-23T16:49:16.323169Z",
     "start_time": "2023-05-23T16:49:16.320393Z"
    }
   }
  },
  {
   "cell_type": "code",
   "execution_count": 21,
   "outputs": [
    {
     "data": {
      "text/plain": "  station  dist  temp  day      inv_dist  weighted\n0       A     2  30.0    1  2.500000e-01  7.500000\n1       B    15  32.0    1  4.444444e-03  0.142222\n2       C    20  38.0    1  2.500000e-03  0.095000\n3       D  1000  68.0    1  1.000000e-06  0.000068\n4       E  1500  79.0    1  4.444444e-07  0.000035\n5       A     2  30.0    2  2.500000e-01  7.500000\n6       B    15  32.0    2  4.444444e-03  0.142222\n7       C    20  38.0    2  2.500000e-03  0.095000\n8       D  1000  68.0    2  1.000000e-06  0.000068\n9       E  1500  79.0    2  4.444444e-07  0.000035",
      "text/html": "<div>\n<style scoped>\n    .dataframe tbody tr th:only-of-type {\n        vertical-align: middle;\n    }\n\n    .dataframe tbody tr th {\n        vertical-align: top;\n    }\n\n    .dataframe thead th {\n        text-align: right;\n    }\n</style>\n<table border=\"1\" class=\"dataframe\">\n  <thead>\n    <tr style=\"text-align: right;\">\n      <th></th>\n      <th>station</th>\n      <th>dist</th>\n      <th>temp</th>\n      <th>day</th>\n      <th>inv_dist</th>\n      <th>weighted</th>\n    </tr>\n  </thead>\n  <tbody>\n    <tr>\n      <th>0</th>\n      <td>A</td>\n      <td>2</td>\n      <td>30.0</td>\n      <td>1</td>\n      <td>2.500000e-01</td>\n      <td>7.500000</td>\n    </tr>\n    <tr>\n      <th>1</th>\n      <td>B</td>\n      <td>15</td>\n      <td>32.0</td>\n      <td>1</td>\n      <td>4.444444e-03</td>\n      <td>0.142222</td>\n    </tr>\n    <tr>\n      <th>2</th>\n      <td>C</td>\n      <td>20</td>\n      <td>38.0</td>\n      <td>1</td>\n      <td>2.500000e-03</td>\n      <td>0.095000</td>\n    </tr>\n    <tr>\n      <th>3</th>\n      <td>D</td>\n      <td>1000</td>\n      <td>68.0</td>\n      <td>1</td>\n      <td>1.000000e-06</td>\n      <td>0.000068</td>\n    </tr>\n    <tr>\n      <th>4</th>\n      <td>E</td>\n      <td>1500</td>\n      <td>79.0</td>\n      <td>1</td>\n      <td>4.444444e-07</td>\n      <td>0.000035</td>\n    </tr>\n    <tr>\n      <th>5</th>\n      <td>A</td>\n      <td>2</td>\n      <td>30.0</td>\n      <td>2</td>\n      <td>2.500000e-01</td>\n      <td>7.500000</td>\n    </tr>\n    <tr>\n      <th>6</th>\n      <td>B</td>\n      <td>15</td>\n      <td>32.0</td>\n      <td>2</td>\n      <td>4.444444e-03</td>\n      <td>0.142222</td>\n    </tr>\n    <tr>\n      <th>7</th>\n      <td>C</td>\n      <td>20</td>\n      <td>38.0</td>\n      <td>2</td>\n      <td>2.500000e-03</td>\n      <td>0.095000</td>\n    </tr>\n    <tr>\n      <th>8</th>\n      <td>D</td>\n      <td>1000</td>\n      <td>68.0</td>\n      <td>2</td>\n      <td>1.000000e-06</td>\n      <td>0.000068</td>\n    </tr>\n    <tr>\n      <th>9</th>\n      <td>E</td>\n      <td>1500</td>\n      <td>79.0</td>\n      <td>2</td>\n      <td>4.444444e-07</td>\n      <td>0.000035</td>\n    </tr>\n  </tbody>\n</table>\n</div>"
     },
     "execution_count": 21,
     "metadata": {},
     "output_type": "execute_result"
    }
   ],
   "source": [
    "# inverse weighted temperature\n",
    "data['weighted'] = data.temp * data.inv_dist\n",
    "data"
   ],
   "metadata": {
    "collapsed": false,
    "ExecuteTime": {
     "end_time": "2023-05-23T16:50:03.027357Z",
     "start_time": "2023-05-23T16:50:03.020482Z"
    }
   }
  },
  {
   "cell_type": "code",
   "execution_count": 24,
   "outputs": [
    {
     "data": {
      "text/plain": "  station  dist  temp  day      inv_dist  weighted\n0       A     2  30.0    1  2.500000e-01  7.500000\n1       B    15  32.0    1  4.444444e-03  0.142222\n2       C    20  38.0    1  2.500000e-03  0.095000\n3       D  1000  68.0    1  1.000000e-06  0.000068\n4       E  1500  79.0    1  4.444444e-07  0.000035",
      "text/html": "<div>\n<style scoped>\n    .dataframe tbody tr th:only-of-type {\n        vertical-align: middle;\n    }\n\n    .dataframe tbody tr th {\n        vertical-align: top;\n    }\n\n    .dataframe thead th {\n        text-align: right;\n    }\n</style>\n<table border=\"1\" class=\"dataframe\">\n  <thead>\n    <tr style=\"text-align: right;\">\n      <th></th>\n      <th>station</th>\n      <th>dist</th>\n      <th>temp</th>\n      <th>day</th>\n      <th>inv_dist</th>\n      <th>weighted</th>\n    </tr>\n  </thead>\n  <tbody>\n    <tr>\n      <th>0</th>\n      <td>A</td>\n      <td>2</td>\n      <td>30.0</td>\n      <td>1</td>\n      <td>2.500000e-01</td>\n      <td>7.500000</td>\n    </tr>\n    <tr>\n      <th>1</th>\n      <td>B</td>\n      <td>15</td>\n      <td>32.0</td>\n      <td>1</td>\n      <td>4.444444e-03</td>\n      <td>0.142222</td>\n    </tr>\n    <tr>\n      <th>2</th>\n      <td>C</td>\n      <td>20</td>\n      <td>38.0</td>\n      <td>1</td>\n      <td>2.500000e-03</td>\n      <td>0.095000</td>\n    </tr>\n    <tr>\n      <th>3</th>\n      <td>D</td>\n      <td>1000</td>\n      <td>68.0</td>\n      <td>1</td>\n      <td>1.000000e-06</td>\n      <td>0.000068</td>\n    </tr>\n    <tr>\n      <th>4</th>\n      <td>E</td>\n      <td>1500</td>\n      <td>79.0</td>\n      <td>1</td>\n      <td>4.444444e-07</td>\n      <td>0.000035</td>\n    </tr>\n  </tbody>\n</table>\n</div>"
     },
     "execution_count": 24,
     "metadata": {},
     "output_type": "execute_result"
    }
   ],
   "source": [
    "day1 = data[data.day==1]\n",
    "day1"
   ],
   "metadata": {
    "collapsed": false,
    "ExecuteTime": {
     "end_time": "2023-05-23T16:54:20.398993Z",
     "start_time": "2023-05-23T16:54:20.390614Z"
    }
   }
  },
  {
   "cell_type": "code",
   "execution_count": 26,
   "outputs": [
    {
     "data": {
      "text/plain": "station        ABCDE\ndist            2537\ntemp           247.0\nday                5\ninv_dist    0.256946\nweighted    7.737325\ndtype: object"
     },
     "execution_count": 26,
     "metadata": {},
     "output_type": "execute_result"
    }
   ],
   "source": [
    "day1.sum()"
   ],
   "metadata": {
    "collapsed": false,
    "ExecuteTime": {
     "end_time": "2023-05-23T16:57:16.549696Z",
     "start_time": "2023-05-23T16:57:16.545170Z"
    }
   }
  },
  {
   "cell_type": "code",
   "execution_count": 27,
   "outputs": [
    {
     "data": {
      "text/plain": "30.112650128820842"
     },
     "execution_count": 27,
     "metadata": {},
     "output_type": "execute_result"
    }
   ],
   "source": [
    "7.737325 / 0.256946"
   ],
   "metadata": {
    "collapsed": false,
    "ExecuteTime": {
     "end_time": "2023-05-23T16:59:10.092991Z",
     "start_time": "2023-05-23T16:59:10.077043Z"
    }
   }
  },
  {
   "cell_type": "code",
   "execution_count": 31,
   "outputs": [
    {
     "data": {
      "text/plain": "<pandas.core.groupby.generic.DataFrameGroupBy object at 0x12a785450>"
     },
     "execution_count": 31,
     "metadata": {},
     "output_type": "execute_result"
    }
   ],
   "source": [
    "grouped = data.groupby('day')\n",
    "grouped"
   ],
   "metadata": {
    "collapsed": false,
    "ExecuteTime": {
     "end_time": "2023-05-23T17:02:34.529003Z",
     "start_time": "2023-05-23T17:02:34.525003Z"
    }
   }
  },
  {
   "cell_type": "code",
   "execution_count": 32,
   "outputs": [
    {
     "data": {
      "text/plain": "[(1,\n    station  dist  temp  day      inv_dist  weighted\n  0       A     2  30.0    1  2.500000e-01  7.500000\n  1       B    15  32.0    1  4.444444e-03  0.142222\n  2       C    20  38.0    1  2.500000e-03  0.095000\n  3       D  1000  68.0    1  1.000000e-06  0.000068\n  4       E  1500  79.0    1  4.444444e-07  0.000035),\n (2,\n    station  dist  temp  day      inv_dist  weighted\n  5       A     2  30.0    2  2.500000e-01  7.500000\n  6       B    15  32.0    2  4.444444e-03  0.142222\n  7       C    20  38.0    2  2.500000e-03  0.095000\n  8       D  1000  68.0    2  1.000000e-06  0.000068\n  9       E  1500  79.0    2  4.444444e-07  0.000035)]"
     },
     "execution_count": 32,
     "metadata": {},
     "output_type": "execute_result"
    }
   ],
   "source": [
    "list(grouped)"
   ],
   "metadata": {
    "collapsed": false,
    "ExecuteTime": {
     "end_time": "2023-05-23T17:03:50.705300Z",
     "start_time": "2023-05-23T17:03:50.698086Z"
    }
   }
  },
  {
   "cell_type": "code",
   "execution_count": 34,
   "outputs": [
    {
     "data": {
      "text/plain": "  station  dist  temp  day      inv_dist  weighted\n0       A     2  30.0    1  2.500000e-01  7.500000\n1       B    15  32.0    1  4.444444e-03  0.142222\n2       C    20  38.0    1  2.500000e-03  0.095000\n3       D  1000  68.0    1  1.000000e-06  0.000068\n4       E  1500  79.0    1  4.444444e-07  0.000035",
      "text/html": "<div>\n<style scoped>\n    .dataframe tbody tr th:only-of-type {\n        vertical-align: middle;\n    }\n\n    .dataframe tbody tr th {\n        vertical-align: top;\n    }\n\n    .dataframe thead th {\n        text-align: right;\n    }\n</style>\n<table border=\"1\" class=\"dataframe\">\n  <thead>\n    <tr style=\"text-align: right;\">\n      <th></th>\n      <th>station</th>\n      <th>dist</th>\n      <th>temp</th>\n      <th>day</th>\n      <th>inv_dist</th>\n      <th>weighted</th>\n    </tr>\n  </thead>\n  <tbody>\n    <tr>\n      <th>0</th>\n      <td>A</td>\n      <td>2</td>\n      <td>30.0</td>\n      <td>1</td>\n      <td>2.500000e-01</td>\n      <td>7.500000</td>\n    </tr>\n    <tr>\n      <th>1</th>\n      <td>B</td>\n      <td>15</td>\n      <td>32.0</td>\n      <td>1</td>\n      <td>4.444444e-03</td>\n      <td>0.142222</td>\n    </tr>\n    <tr>\n      <th>2</th>\n      <td>C</td>\n      <td>20</td>\n      <td>38.0</td>\n      <td>1</td>\n      <td>2.500000e-03</td>\n      <td>0.095000</td>\n    </tr>\n    <tr>\n      <th>3</th>\n      <td>D</td>\n      <td>1000</td>\n      <td>68.0</td>\n      <td>1</td>\n      <td>1.000000e-06</td>\n      <td>0.000068</td>\n    </tr>\n    <tr>\n      <th>4</th>\n      <td>E</td>\n      <td>1500</td>\n      <td>79.0</td>\n      <td>1</td>\n      <td>4.444444e-07</td>\n      <td>0.000035</td>\n    </tr>\n  </tbody>\n</table>\n</div>"
     },
     "execution_count": 34,
     "metadata": {},
     "output_type": "execute_result"
    }
   ],
   "source": [
    "list(grouped)[0][1]"
   ],
   "metadata": {
    "collapsed": false,
    "ExecuteTime": {
     "end_time": "2023-05-23T17:04:26.352124Z",
     "start_time": "2023-05-23T17:04:26.345105Z"
    }
   }
  },
  {
   "cell_type": "code",
   "execution_count": 35,
   "outputs": [
    {
     "data": {
      "text/plain": "[(1,\n  0    7.500000\n  1    0.142222\n  2    0.095000\n  3    0.000068\n  4    0.000035\n  Name: weighted, dtype: float64),\n (2,\n  5    7.500000\n  6    0.142222\n  7    0.095000\n  8    0.000068\n  9    0.000035\n  Name: weighted, dtype: float64)]"
     },
     "execution_count": 35,
     "metadata": {},
     "output_type": "execute_result"
    }
   ],
   "source": [
    "list(grouped.weighted)"
   ],
   "metadata": {
    "collapsed": false,
    "ExecuteTime": {
     "end_time": "2023-05-23T17:04:55.728773Z",
     "start_time": "2023-05-23T17:04:55.713400Z"
    }
   }
  },
  {
   "cell_type": "code",
   "execution_count": 36,
   "outputs": [
    {
     "data": {
      "text/plain": "day\n1    7.737325\n2    7.737325\nName: weighted, dtype: float64"
     },
     "execution_count": 36,
     "metadata": {},
     "output_type": "execute_result"
    }
   ],
   "source": [
    "grouped.weighted.sum()"
   ],
   "metadata": {
    "collapsed": false,
    "ExecuteTime": {
     "end_time": "2023-05-23T17:05:46.261919Z",
     "start_time": "2023-05-23T17:05:46.250528Z"
    }
   }
  },
  {
   "cell_type": "code",
   "execution_count": 37,
   "outputs": [
    {
     "data": {
      "text/plain": "day\n1    0.256946\n2    0.256946\nName: inv_dist, dtype: float64"
     },
     "execution_count": 37,
     "metadata": {},
     "output_type": "execute_result"
    }
   ],
   "source": [
    "grouped.inv_dist.sum()"
   ],
   "metadata": {
    "collapsed": false,
    "ExecuteTime": {
     "end_time": "2023-05-23T17:06:36.467558Z",
     "start_time": "2023-05-23T17:06:36.448024Z"
    }
   }
  },
  {
   "cell_type": "code",
   "execution_count": 44,
   "outputs": [],
   "source": [
    "result = data.groupby('day').weighted.sum() / data.groupby('day').inv_dist.sum()"
   ],
   "metadata": {
    "collapsed": false,
    "ExecuteTime": {
     "end_time": "2023-05-23T17:08:15.064850Z",
     "start_time": "2023-05-23T17:08:15.061423Z"
    }
   }
  },
  {
   "cell_type": "code",
   "execution_count": 45,
   "outputs": [
    {
     "data": {
      "text/plain": "[<matplotlib.lines.Line2D at 0x12e0f4520>]"
     },
     "execution_count": 45,
     "metadata": {},
     "output_type": "execute_result"
    },
    {
     "data": {
      "text/plain": "<Figure size 640x480 with 1 Axes>",
      "image/png": "[encoded data removed]"
     },
     "metadata": {},
     "output_type": "display_data"
    }
   ],
   "source": [
    "import matplotlib.pyplot as plt\n",
    "plt.plot(result)"
   ],
   "metadata": {
    "collapsed": false,
    "ExecuteTime": {
     "end_time": "2023-05-23T17:08:15.978298Z",
     "start_time": "2023-05-23T17:08:15.817074Z"
    }
   }
  },
  {
   "cell_type": "code",
   "execution_count": null,
   "outputs": [],
   "source": [],
   "metadata": {
    "collapsed": false
   }
  }
 ],
 "metadata": {
  "kernelspec": {
   "display_name": "Python 3",
   "language": "python",
   "name": "python3"
  },
  "language_info": {
   "codemirror_mode": {
    "name": "ipython",
    "version": 2
   },
   "file_extension": ".py",
   "mimetype": "text/x-python",
   "name": "python",
   "nbconvert_exporter": "python",
   "pygments_lexer": "ipython2",
   "version": "2.7.6"
  }
 },
 "nbformat": 4,
 "nbformat_minor": 0
}
