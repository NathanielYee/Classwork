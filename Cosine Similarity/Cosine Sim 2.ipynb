{
 "cells": [
  {
   "cell_type": "code",
   "execution_count": null,
   "metadata": {
    "collapsed": true,
    "ExecuteTime": {
     "end_time": "2023-05-31T16:15:11.290820Z",
     "start_time": "2023-05-31T16:15:11.281310Z"
    }
   },
   "outputs": [],
   "source": []
  },
  {
   "cell_type": "code",
   "execution_count": 1,
   "outputs": [],
   "source": [
    "# Identifying Similar Documents or word lists based on a measure called cosine similarity\n",
    "# A topic of Natural Language Processing/ Text processing/Document Analysis"
   ],
   "metadata": {
    "collapsed": false,
    "ExecuteTime": {
     "end_time": "2023-05-31T16:15:11.293889Z",
     "start_time": "2023-05-31T16:15:11.289936Z"
    }
   }
  },
  {
   "cell_type": "code",
   "execution_count": 2,
   "outputs": [],
   "source": [
    "import wordcloud as wc\n",
    "import numpy as np\n",
    "import matplotlib.pyplot as plt\n",
    "import math\n",
    "from collections import Counter\n",
    "import seaborn as sns"
   ],
   "metadata": {
    "collapsed": false,
    "ExecuteTime": {
     "end_time": "2023-05-31T16:15:11.304384Z",
     "start_time": "2023-05-31T16:15:11.293725Z"
    }
   }
  },
  {
   "cell_type": "code",
   "execution_count": 3,
   "outputs": [
    {
     "data": {
      "text/plain": "15"
     },
     "execution_count": 3,
     "metadata": {},
     "output_type": "execute_result"
    }
   ],
   "source": [
    "user_interests = [\n",
    "    [\"Hadoop\", \"Big Data\", \"HBase\", \"Java\", \"Spark\", \"Storm\", \"Cassandra\"],\n",
    "    [\"NoSQL\", \"MongoDB\", \"Cassandra\", \"HBase\", \"Postgres\"],\n",
    "    [\"Python\", \"scikit-learn\", \"scipy\", \"numpy\", \"statsmodels\", \"pandas\"],\n",
    "    [\"R\", \"Python\", \"statistics\", \"regression\", \"probability\"],\n",
    "    [\"machine learning\", \"regression\", \"decision trees\", \"libsvm\"],\n",
    "    [\"Python\", \"R\", \"Java\", \"C++\", \"Haskell\", \"programming languages\"],\n",
    "    [\"statistics\", \"probability\", \"mathematics\", \"theory\"],\n",
    "    [\"machine learning\", \"scikit-learn\", \"Mahout\", \"neural networks\"],\n",
    "    [\"neural networks\", \"deep learning\", \"Big Data\", \"artificial intelligence\"],\n",
    "    [\"Hadoop\", \"Java\", \"MapReduce\", \"Big Data\"],\n",
    "    [\"statistics\", \"R\", \"statsmodels\"],\n",
    "    [\"C++\", \"deep learning\", \"artificial intelligence\", \"probability\"],\n",
    "    [\"pandas\", \"R\", \"Python\"],\n",
    "    [\"databases\", \"HBase\", \"Postgres\", \"MySQL\", \"MongoDB\"],\n",
    "    [\"libsvm\", \"regression\", \"support vector machines\"]\n",
    "]\n",
    "len(user_interests)"
   ],
   "metadata": {
    "collapsed": false,
    "ExecuteTime": {
     "end_time": "2023-05-31T16:15:11.314847Z",
     "start_time": "2023-05-31T16:15:11.308363Z"
    }
   }
  },
  {
   "cell_type": "code",
   "execution_count": 4,
   "outputs": [],
   "source": [
    "def flatten(lol):\n",
    "    '''Convert a list of lists (of words) in a flat sequence of words'''\n",
    "    flat = []\n",
    "    for sublist in lol:\n",
    "        flat.extend(sublist)\n",
    "    return flat\n",
    "flat = flatten(user_interests)"
   ],
   "metadata": {
    "collapsed": false,
    "ExecuteTime": {
     "end_time": "2023-05-31T16:15:11.336900Z",
     "start_time": "2023-05-31T16:15:11.314611Z"
    }
   }
  },
  {
   "cell_type": "code",
   "execution_count": 5,
   "outputs": [
    {
     "data": {
      "text/plain": "{'Big Data',\n 'C++',\n 'Cassandra',\n 'HBase',\n 'Hadoop',\n 'Haskell',\n 'Java',\n 'Mahout',\n 'MapReduce',\n 'MongoDB',\n 'MySQL',\n 'NoSQL',\n 'Postgres',\n 'Python',\n 'R',\n 'Spark',\n 'Storm',\n 'artificial intelligence',\n 'databases',\n 'decision trees',\n 'deep learning',\n 'libsvm',\n 'machine learning',\n 'mathematics',\n 'neural networks',\n 'numpy',\n 'pandas',\n 'probability',\n 'programming languages',\n 'regression',\n 'scikit-learn',\n 'scipy',\n 'statistics',\n 'statsmodels',\n 'support vector machines',\n 'theory'}"
     },
     "execution_count": 5,
     "metadata": {},
     "output_type": "execute_result"
    }
   ],
   "source": [
    "unique = set(flat)\n",
    "unique\n"
   ],
   "metadata": {
    "collapsed": false,
    "ExecuteTime": {
     "end_time": "2023-05-31T16:15:11.347048Z",
     "start_time": "2023-05-31T16:15:11.318666Z"
    }
   }
  },
  {
   "cell_type": "code",
   "execution_count": 6,
   "outputs": [
    {
     "data": {
      "text/plain": "[1, 2, 3, 4]"
     },
     "execution_count": 6,
     "metadata": {},
     "output_type": "execute_result"
    }
   ],
   "source": [
    "L = [1,2,3]\n",
    "L.append(4)\n",
    "L\n"
   ],
   "metadata": {
    "collapsed": false,
    "ExecuteTime": {
     "end_time": "2023-05-31T16:15:11.347425Z",
     "start_time": "2023-05-31T16:15:11.323755Z"
    }
   }
  },
  {
   "cell_type": "code",
   "execution_count": 7,
   "outputs": [
    {
     "data": {
      "text/plain": "[1, 2, 3, 4, [5, 6, 7]]"
     },
     "execution_count": 7,
     "metadata": {},
     "output_type": "execute_result"
    }
   ],
   "source": [
    "L.append([5,6,7])\n",
    "L"
   ],
   "metadata": {
    "collapsed": false,
    "ExecuteTime": {
     "end_time": "2023-05-31T16:15:11.347598Z",
     "start_time": "2023-05-31T16:15:11.337170Z"
    }
   }
  },
  {
   "cell_type": "code",
   "execution_count": 8,
   "outputs": [
    {
     "data": {
      "text/plain": "[1, 2, 3, 4, [5, 6, 7], 4, 5, 6]"
     },
     "execution_count": 8,
     "metadata": {},
     "output_type": "execute_result"
    }
   ],
   "source": [
    "L + [4,5,6]\n",
    "L = L + [4,5,6]\n",
    "L"
   ],
   "metadata": {
    "collapsed": false,
    "ExecuteTime": {
     "end_time": "2023-05-31T16:15:11.347773Z",
     "start_time": "2023-05-31T16:15:11.337788Z"
    }
   }
  },
  {
   "cell_type": "code",
   "execution_count": 9,
   "outputs": [
    {
     "data": {
      "text/plain": "[1, 2, 3, 4, [5, 6, 7], 4, 5, 6, 4, 5, 6]"
     },
     "execution_count": 9,
     "metadata": {},
     "output_type": "execute_result"
    }
   ],
   "source": [
    "# Extend\n",
    "L.extend([4,5,6])\n",
    "L"
   ],
   "metadata": {
    "collapsed": false,
    "ExecuteTime": {
     "end_time": "2023-05-31T16:15:11.348177Z",
     "start_time": "2023-05-31T16:15:11.337935Z"
    }
   }
  },
  {
   "cell_type": "code",
   "execution_count": 10,
   "outputs": [
    {
     "data": {
      "text/plain": "36"
     },
     "execution_count": 10,
     "metadata": {},
     "output_type": "execute_result"
    }
   ],
   "source": [
    "unique = set(flat)\n",
    "unique\n",
    "len(unique) # 36 elements in our set"
   ],
   "metadata": {
    "collapsed": false,
    "ExecuteTime": {
     "end_time": "2023-05-31T16:15:11.362788Z",
     "start_time": "2023-05-31T16:15:11.345741Z"
    }
   }
  },
  {
   "cell_type": "code",
   "execution_count": 11,
   "outputs": [
    {
     "data": {
      "text/plain": "[('Python', 4), ('R', 4), ('Big Data', 3), ('HBase', 3), ('Java', 3)]"
     },
     "execution_count": 11,
     "metadata": {},
     "output_type": "execute_result"
    }
   ],
   "source": [
    "counts = Counter(flat)\n",
    "top5 = counts.most_common(5)\n",
    "top5"
   ],
   "metadata": {
    "collapsed": false,
    "ExecuteTime": {
     "end_time": "2023-05-31T16:15:11.363421Z",
     "start_time": "2023-05-31T16:15:11.351747Z"
    }
   }
  },
  {
   "cell_type": "code",
   "execution_count": 12,
   "outputs": [
    {
     "name": "stdout",
     "output_type": "stream",
     "text": [
      "User interests ['Hadoop', 'Big Data', 'HBase', 'Java', 'Spark', 'Storm', 'Cassandra']\n",
      "Most Common [('Python', 4), ('R', 4), ('Big Data', 3), ('HBase', 3), ('Java', 3), ('statistics', 3), ('regression', 3), ('probability', 3), ('Hadoop', 2), ('Cassandra', 2), ('MongoDB', 2), ('Postgres', 2), ('scikit-learn', 2), ('statsmodels', 2), ('pandas', 2), ('machine learning', 2), ('libsvm', 2), ('C++', 2), ('neural networks', 2), ('deep learning', 2), ('artificial intelligence', 2), ('Spark', 1), ('Storm', 1), ('NoSQL', 1), ('scipy', 1), ('numpy', 1), ('decision trees', 1), ('Haskell', 1), ('programming languages', 1), ('mathematics', 1), ('theory', 1), ('Mahout', 1), ('MapReduce', 1), ('databases', 1), ('MySQL', 1), ('support vector machines', 1)]\n",
      "Recommendations ['Python', 'R', 'statistics', 'regression', 'probability', 'MongoDB', 'Postgres', 'scikit-learn', 'statsmodels', 'pandas', 'machine learning', 'libsvm', 'C++', 'neural networks', 'deep learning', 'artificial intelligence', 'NoSQL', 'scipy', 'numpy', 'decision trees', 'Haskell', 'programming languages', 'mathematics', 'theory', 'Mahout', 'MapReduce', 'databases', 'MySQL', 'support vector machines']\n"
     ]
    }
   ],
   "source": [
    "def recommend(interests, most_common, max_results = 5):\n",
    "    suggestions = [interest for interest, count in most_common if interest not in interests]\n",
    "    return suggestions\n",
    "\n",
    "user0 = user_interests[0]\n",
    "most_common = Counter(flat).most_common()\n",
    "\n",
    "print(\"User interests\", user_interests[0])\n",
    "print('Most Common', Counter(flat).most_common())\n",
    "print('Recommendations', recommend(user0,most_common,3))"
   ],
   "metadata": {
    "collapsed": false,
    "ExecuteTime": {
     "end_time": "2023-05-31T16:17:55.408156Z",
     "start_time": "2023-05-31T16:17:55.401367Z"
    }
   }
  },
  {
   "cell_type": "code",
   "execution_count": 15,
   "outputs": [
    {
     "data": {
      "text/plain": "[<matplotlib.lines.Line2D at 0x12b1d9000>]"
     },
     "execution_count": 15,
     "metadata": {},
     "output_type": "execute_result"
    },
    {
     "data": {
      "text/plain": "<Figure size 640x480 with 1 Axes>",
      "image/png": "[encoded data removed]"
     },
     "metadata": {},
     "output_type": "display_data"
    }
   ],
   "source": [
    "cos = [math.cos(angle * math.pi / 180) for angle in  range(360)]\n",
    "plt.grid('True')\n",
    "plt.plot(cos)"
   ],
   "metadata": {
    "collapsed": false,
    "ExecuteTime": {
     "end_time": "2023-05-31T16:21:51.475395Z",
     "start_time": "2023-05-31T16:21:51.324231Z"
    }
   }
  },
  {
   "cell_type": "code",
   "execution_count": 19,
   "outputs": [
    {
     "data": {
      "text/plain": "\"'\\nA dot B = |A| |B\\n\""
     },
     "execution_count": 19,
     "metadata": {},
     "output_type": "execute_result"
    }
   ],
   "source": [
    "\"\"\"\n",
    "A dot B = |A| |B| cos(theta)\n",
    "\n",
    "so,\n",
    "\n",
    "cos(theta) = A dot B / (|A| |B|)  = similarity\n",
    "\n",
    "\"\"\"\n",
    "\n",
    "\"\"\"\n",
    "\n",
    "Unique\n",
    "Words          A         B\n",
    "-------      -----     -----\n",
    "Hadoop         1         1\n",
    "Python         0         1\n",
    "Java           0         0\n",
    "R              1         1\n",
    "Statistics     1         1\n",
    "\n",
    "|A| = sqrt(3) = 1.7\n",
    "|B| = sqrt(4) = 2.0\n",
    "\n",
    "A dot B = 1 + 0 + 0 + 1 + 1 = 3\n",
    "\n",
    "cos(theta) = 3 / (2.0 x 1.7) = 0.866 (pretty similar!)\n",
    "\n",
    "\"\"\""
   ],
   "metadata": {
    "collapsed": false,
    "ExecuteTime": {
     "end_time": "2023-05-31T16:23:27.147374Z",
     "start_time": "2023-05-31T16:23:27.141997Z"
    }
   }
  },
  {
   "cell_type": "code",
   "execution_count": 21,
   "outputs": [],
   "source": [
    "# Convert list of words to a word vector\n",
    "\n",
    "def vectorize(words, unique):\n",
    "    return [1 if word in words else 0 for word in unique]"
   ],
   "metadata": {
    "collapsed": false,
    "ExecuteTime": {
     "end_time": "2023-05-31T16:32:14.661731Z",
     "start_time": "2023-05-31T16:32:14.656337Z"
    }
   }
  },
  {
   "cell_type": "code",
   "execution_count": 23,
   "outputs": [
    {
     "data": {
      "text/plain": "[0,\n 0,\n 0,\n 0,\n 0,\n 0,\n 0,\n 0,\n 1,\n 0,\n 1,\n 0,\n 0,\n 0,\n 0,\n 0,\n 0,\n 1,\n 1,\n 0,\n 0,\n 0,\n 0,\n 0,\n 0,\n 1,\n 0,\n 0,\n 0,\n 0,\n 0,\n 1,\n 1,\n 0,\n 0,\n 0]"
     },
     "execution_count": 23,
     "metadata": {},
     "output_type": "execute_result"
    }
   ],
   "source": [
    "vectorize(user0,unique)"
   ],
   "metadata": {
    "collapsed": false,
    "ExecuteTime": {
     "end_time": "2023-05-31T16:33:13.659972Z",
     "start_time": "2023-05-31T16:33:13.649735Z"
    }
   }
  },
  {
   "cell_type": "code",
   "execution_count": 24,
   "outputs": [],
   "source": [
    "# Vector Function\n",
    "def mag(v):\n",
    "    '''Mag of vector\n",
    "    v - vector in list component notation\n",
    "    '''\n",
    "    return sum([i**2 for i in v]) ** .5"
   ],
   "metadata": {
    "collapsed": false,
    "ExecuteTime": {
     "end_time": "2023-05-31T16:37:32.048787Z",
     "start_time": "2023-05-31T16:37:32.041843Z"
    }
   }
  },
  {
   "cell_type": "code",
   "execution_count": 25,
   "outputs": [
    {
     "data": {
      "text/plain": "5.196152422706632"
     },
     "execution_count": 25,
     "metadata": {},
     "output_type": "execute_result"
    }
   ],
   "source": [
    "mag([1,5,-1])"
   ],
   "metadata": {
    "collapsed": false,
    "ExecuteTime": {
     "end_time": "2023-05-31T16:37:42.058203Z",
     "start_time": "2023-05-31T16:37:42.047412Z"
    }
   }
  },
  {
   "cell_type": "code",
   "execution_count": 32,
   "outputs": [],
   "source": [
    "def dot(u,v):\n",
    "    '''dot product of two vectors\n",
    "    u vector 1\n",
    "    v vector 2\n",
    "    '''\n",
    "    return sum(i*j for i,j in zip(u,v))"
   ],
   "metadata": {
    "collapsed": false,
    "ExecuteTime": {
     "end_time": "2023-05-31T16:41:13.302454Z",
     "start_time": "2023-05-31T16:41:13.297223Z"
    }
   }
  },
  {
   "cell_type": "code",
   "execution_count": 33,
   "outputs": [
    {
     "data": {
      "text/plain": "55"
     },
     "execution_count": 33,
     "metadata": {},
     "output_type": "execute_result"
    }
   ],
   "source": [
    "dot([5,5,0],[4,7,1])"
   ],
   "metadata": {
    "collapsed": false,
    "ExecuteTime": {
     "end_time": "2023-05-31T16:41:14.568958Z",
     "start_time": "2023-05-31T16:41:14.560847Z"
    }
   }
  },
  {
   "cell_type": "code",
   "execution_count": 30,
   "outputs": [
    {
     "data": {
      "text/plain": "[(5, 4), (5, 7), (0, 1)]"
     },
     "execution_count": 30,
     "metadata": {},
     "output_type": "execute_result"
    }
   ],
   "source": [
    "list(zip([5,5,0],[4,7,1]))"
   ],
   "metadata": {
    "collapsed": false,
    "ExecuteTime": {
     "end_time": "2023-05-31T16:40:35.229022Z",
     "start_time": "2023-05-31T16:40:35.220616Z"
    }
   }
  },
  {
   "cell_type": "code",
   "execution_count": 34,
   "outputs": [],
   "source": [
    "def cosine_similarity(u,v):\n",
    "    '''Cosine Similarity Between two vectors'''\n",
    "    cos_theta = dot(u,v) / (mag(u) * (mag(v)))\n",
    "    return cos_theta"
   ],
   "metadata": {
    "collapsed": false,
    "ExecuteTime": {
     "end_time": "2023-05-31T16:42:38.168158Z",
     "start_time": "2023-05-31T16:42:38.152703Z"
    }
   }
  },
  {
   "cell_type": "code",
   "execution_count": 36,
   "outputs": [
    {
     "data": {
      "text/plain": "0.957427107756338"
     },
     "execution_count": 36,
     "metadata": {},
     "output_type": "execute_result"
    }
   ],
   "source": [
    "cosine_similarity([5,5,0],[4,7,1])"
   ],
   "metadata": {
    "collapsed": false,
    "ExecuteTime": {
     "end_time": "2023-05-31T16:43:05.561574Z",
     "start_time": "2023-05-31T16:43:05.555092Z"
    }
   }
  },
  {
   "cell_type": "code",
   "execution_count": 42,
   "outputs": [
    {
     "data": {
      "text/plain": "array([[1.        , 0.3380617 , 0.        , 0.        , 0.        ,\n        0.15430335, 0.        , 0.        , 0.18898224, 0.56694671,\n        0.        , 0.        , 0.        , 0.16903085, 0.        ],\n       [0.3380617 , 1.        , 0.        , 0.        , 0.        ,\n        0.        , 0.        , 0.        , 0.        , 0.        ,\n        0.        , 0.        , 0.        , 0.6       , 0.        ],\n       [0.        , 0.        , 1.        , 0.18257419, 0.        ,\n        0.16666667, 0.        , 0.20412415, 0.        , 0.        ,\n        0.23570226, 0.        , 0.47140452, 0.        , 0.        ],\n       [0.        , 0.        , 0.18257419, 1.        , 0.2236068 ,\n        0.36514837, 0.4472136 , 0.        , 0.        , 0.        ,\n        0.51639778, 0.2236068 , 0.51639778, 0.        , 0.25819889],\n       [0.        , 0.        , 0.        , 0.2236068 , 1.        ,\n        0.        , 0.        , 0.25      , 0.        , 0.        ,\n        0.        , 0.        , 0.        , 0.        , 0.57735027],\n       [0.15430335, 0.        , 0.16666667, 0.36514837, 0.        ,\n        1.        , 0.        , 0.        , 0.        , 0.20412415,\n        0.23570226, 0.20412415, 0.47140452, 0.        , 0.        ],\n       [0.        , 0.        , 0.        , 0.4472136 , 0.        ,\n        0.        , 1.        , 0.        , 0.        , 0.        ,\n        0.28867513, 0.25      , 0.        , 0.        , 0.        ],\n       [0.        , 0.        , 0.20412415, 0.        , 0.25      ,\n        0.        , 0.        , 1.        , 0.25      , 0.        ,\n        0.        , 0.        , 0.        , 0.        , 0.        ],\n       [0.18898224, 0.        , 0.        , 0.        , 0.        ,\n        0.        , 0.        , 0.25      , 1.        , 0.25      ,\n        0.        , 0.5       , 0.        , 0.        , 0.        ],\n       [0.56694671, 0.        , 0.        , 0.        , 0.        ,\n        0.20412415, 0.        , 0.        , 0.25      , 1.        ,\n        0.        , 0.        , 0.        , 0.        , 0.        ],\n       [0.        , 0.        , 0.23570226, 0.51639778, 0.        ,\n        0.23570226, 0.28867513, 0.        , 0.        , 0.        ,\n        1.        , 0.        , 0.33333333, 0.        , 0.        ],\n       [0.        , 0.        , 0.        , 0.2236068 , 0.        ,\n        0.20412415, 0.25      , 0.        , 0.5       , 0.        ,\n        0.        , 1.        , 0.        , 0.        , 0.        ],\n       [0.        , 0.        , 0.47140452, 0.51639778, 0.        ,\n        0.47140452, 0.        , 0.        , 0.        , 0.        ,\n        0.33333333, 0.        , 1.        , 0.        , 0.        ],\n       [0.16903085, 0.6       , 0.        , 0.        , 0.        ,\n        0.        , 0.        , 0.        , 0.        , 0.        ,\n        0.        , 0.        , 0.        , 1.        , 0.        ],\n       [0.        , 0.        , 0.        , 0.25819889, 0.57735027,\n        0.        , 0.        , 0.        , 0.        , 0.        ,\n        0.        , 0.        , 0.        , 0.        , 1.        ]])"
     },
     "execution_count": 42,
     "metadata": {},
     "output_type": "execute_result"
    }
   ],
   "source": [
    "arr = np.zeros((15,15), dtype = float)\n",
    "for i in range(15):\n",
    "    vi = vectorize(user_interests[i], unique)\n",
    "    for j in range(i, 15):\n",
    "        vj = vectorize(user_interests[j], unique)\n",
    "        arr[i,j] = cosine_similarity(vi,vj)\n",
    "        arr[j,i] = arr[i,j]\n",
    "arr"
   ],
   "metadata": {
    "collapsed": false,
    "ExecuteTime": {
     "end_time": "2023-05-31T16:52:29.549137Z",
     "start_time": "2023-05-31T16:52:29.538415Z"
    }
   }
  },
  {
   "cell_type": "code",
   "execution_count": 46,
   "outputs": [
    {
     "data": {
      "text/plain": "<Axes: title={'center': 'Cosine Similarity Heatmap'}>"
     },
     "execution_count": 46,
     "metadata": {},
     "output_type": "execute_result"
    },
    {
     "data": {
      "text/plain": "<Figure size 640x480 with 2 Axes>",
      "image/png": "[encoded data removed]"
     },
     "metadata": {},
     "output_type": "display_data"
    }
   ],
   "source": [
    "plt.title('Cosine Similarity Heatmap')\n",
    "sns.heatmap(arr)"
   ],
   "metadata": {
    "collapsed": false,
    "ExecuteTime": {
     "end_time": "2023-05-31T16:53:27.170860Z",
     "start_time": "2023-05-31T16:53:26.897709Z"
    }
   }
  },
  {
   "cell_type": "code",
   "execution_count": 47,
   "outputs": [
    {
     "data": {
      "text/plain": "0.5669467095138409"
     },
     "execution_count": 47,
     "metadata": {},
     "output_type": "execute_result"
    }
   ],
   "source": [
    "arr[0,9]"
   ],
   "metadata": {
    "collapsed": false,
    "ExecuteTime": {
     "end_time": "2023-05-31T16:53:37.592340Z",
     "start_time": "2023-05-31T16:53:37.579634Z"
    }
   }
  },
  {
   "cell_type": "code",
   "execution_count": 48,
   "outputs": [
    {
     "data": {
      "text/plain": "['Hadoop', 'Big Data', 'HBase', 'Java', 'Spark', 'Storm', 'Cassandra']"
     },
     "execution_count": 48,
     "metadata": {},
     "output_type": "execute_result"
    }
   ],
   "source": [
    "user_interests[0]"
   ],
   "metadata": {
    "collapsed": false,
    "ExecuteTime": {
     "end_time": "2023-05-31T16:54:09.977129Z",
     "start_time": "2023-05-31T16:54:09.960263Z"
    }
   }
  },
  {
   "cell_type": "code",
   "execution_count": 49,
   "outputs": [
    {
     "data": {
      "text/plain": "['Hadoop', 'Java', 'MapReduce', 'Big Data']"
     },
     "execution_count": 49,
     "metadata": {},
     "output_type": "execute_result"
    }
   ],
   "source": [
    "user_interests[9]"
   ],
   "metadata": {
    "collapsed": false,
    "ExecuteTime": {
     "end_time": "2023-05-31T16:54:15.968899Z",
     "start_time": "2023-05-31T16:54:15.956094Z"
    }
   }
  },
  {
   "cell_type": "code",
   "execution_count": 50,
   "outputs": [
    {
     "ename": "NameError",
     "evalue": "name 'A' is not defined",
     "output_type": "error",
     "traceback": [
      "\u001B[0;31m---------------------------------------------------------------------------\u001B[0m",
      "\u001B[0;31mNameError\u001B[0m                                 Traceback (most recent call last)",
      "Cell \u001B[0;32mIn[50], line 1\u001B[0m\n\u001B[0;32m----> 1\u001B[0m \u001B[43mA\u001B[49m \u001B[38;5;241m-\u001B[39m B\n\u001B[1;32m      2\u001B[0m B \u001B[38;5;241m-\u001B[39m A\n",
      "\u001B[0;31mNameError\u001B[0m: name 'A' is not defined"
     ]
    }
   ],
   "source": [
    "A - B # elemetns in a that are not in B\n",
    "B - A # Elements in B that are not in A"
   ],
   "metadata": {
    "collapsed": false,
    "ExecuteTime": {
     "end_time": "2023-05-31T16:58:47.780658Z",
     "start_time": "2023-05-31T16:58:47.760306Z"
    }
   }
  },
  {
   "cell_type": "code",
   "execution_count": 57,
   "outputs": [
    {
     "data": {
      "text/plain": "{1, 2, 3, 7, 8, 9}"
     },
     "execution_count": 57,
     "metadata": {},
     "output_type": "execute_result"
    }
   ],
   "source": [
    "# Digression Sets\n",
    "# A set is an unordered collection of distinct elements\n",
    "\n",
    "A = {1,2,3,4,5,6}\n",
    "B = {4,5,6,7,8,9}\n",
    "\n",
    "# Cardinality (# of elements)\n",
    "\n",
    "len(A)\n",
    "\n",
    "# Union elements in A or B\n",
    "A | B\n",
    "\n",
    "# Intersection elements in A and B\n",
    "A & B\n",
    "\n",
    "# Difference\n",
    "A - B\n",
    "B - A\n",
    "\n",
    "# Symetric Difference (often denoted with the triangle operator)\n",
    "# in one set or the other but not both\n",
    "A ^ B\n",
    "(A|B)-(A&B) # same as symetric diff"
   ],
   "metadata": {
    "collapsed": false,
    "ExecuteTime": {
     "end_time": "2023-05-31T17:03:37.902836Z",
     "start_time": "2023-05-31T17:03:37.895195Z"
    }
   }
  },
  {
   "cell_type": "code",
   "execution_count": 58,
   "outputs": [
    {
     "data": {
      "text/plain": "{1, 2, 3, 4, 5, 6, 99}"
     },
     "execution_count": 58,
     "metadata": {},
     "output_type": "execute_result"
    }
   ],
   "source": [
    "# adding an element to set\n",
    "A.add(99)\n",
    "A"
   ],
   "metadata": {
    "collapsed": false,
    "ExecuteTime": {
     "end_time": "2023-05-31T17:05:44.643262Z",
     "start_time": "2023-05-31T17:05:44.630395Z"
    }
   }
  },
  {
   "cell_type": "code",
   "execution_count": 61,
   "outputs": [],
   "source": [
    "# Emphasis on distincty\n",
    "C = {1,1,1,1,1,1,2,2,2,2,3,3,3}"
   ],
   "metadata": {
    "collapsed": false,
    "ExecuteTime": {
     "end_time": "2023-05-31T17:06:32.008413Z",
     "start_time": "2023-05-31T17:06:31.997581Z"
    }
   }
  },
  {
   "cell_type": "code",
   "execution_count": 62,
   "outputs": [
    {
     "data": {
      "text/plain": "True"
     },
     "execution_count": 62,
     "metadata": {},
     "output_type": "execute_result"
    }
   ],
   "source": [
    "# membership\n",
    "2 in C"
   ],
   "metadata": {
    "collapsed": false,
    "ExecuteTime": {
     "end_time": "2023-05-31T17:06:34.222960Z",
     "start_time": "2023-05-31T17:06:34.213384Z"
    }
   }
  },
  {
   "cell_type": "code",
   "execution_count": 63,
   "outputs": [
    {
     "data": {
      "text/plain": "False"
     },
     "execution_count": 63,
     "metadata": {},
     "output_type": "execute_result"
    }
   ],
   "source": [
    "4 in C"
   ],
   "metadata": {
    "collapsed": false,
    "ExecuteTime": {
     "end_time": "2023-05-31T17:06:34.982270Z",
     "start_time": "2023-05-31T17:06:34.974335Z"
    }
   }
  },
  {
   "cell_type": "code",
   "execution_count": 64,
   "outputs": [
    {
     "ename": "TypeError",
     "evalue": "unhashable type: 'list'",
     "output_type": "error",
     "traceback": [
      "\u001B[0;31m---------------------------------------------------------------------------\u001B[0m",
      "\u001B[0;31mTypeError\u001B[0m                                 Traceback (most recent call last)",
      "Cell \u001B[0;32mIn[64], line 2\u001B[0m\n\u001B[1;32m      1\u001B[0m \u001B[38;5;66;03m# elements of a set must be immutable\u001B[39;00m\n\u001B[0;32m----> 2\u001B[0m {\u001B[38;5;241m1\u001B[39m,\u001B[38;5;241m2\u001B[39m,\u001B[38;5;241m3\u001B[39m,[\u001B[38;5;241m4\u001B[39m,\u001B[38;5;241m5\u001B[39m]}\n",
      "\u001B[0;31mTypeError\u001B[0m: unhashable type: 'list'"
     ]
    }
   ],
   "source": [
    "# elements of a set must be immutable\n",
    "{1,2,3,[4,5]}"
   ],
   "metadata": {
    "collapsed": false,
    "ExecuteTime": {
     "end_time": "2023-05-31T17:06:55.942116Z",
     "start_time": "2023-05-31T17:06:55.920086Z"
    }
   }
  },
  {
   "cell_type": "code",
   "execution_count": 65,
   "outputs": [],
   "source": [
    "user0 = user_interests[0]\n",
    "user9 = user_interests[9]\n"
   ],
   "metadata": {
    "collapsed": false,
    "ExecuteTime": {
     "end_time": "2023-05-31T17:07:17.186938Z",
     "start_time": "2023-05-31T17:07:17.170050Z"
    }
   }
  },
  {
   "cell_type": "code",
   "execution_count": 66,
   "outputs": [
    {
     "data": {
      "text/plain": "{'MapReduce'}"
     },
     "execution_count": 66,
     "metadata": {},
     "output_type": "execute_result"
    }
   ],
   "source": [
    "set(user9)- set(user0)"
   ],
   "metadata": {
    "collapsed": false,
    "ExecuteTime": {
     "end_time": "2023-05-31T17:07:33.477199Z",
     "start_time": "2023-05-31T17:07:33.462133Z"
    }
   }
  },
  {
   "cell_type": "code",
   "execution_count": null,
   "outputs": [],
   "source": [
    "def recommend(interests,user_interests):\n",
    "    pass"
   ],
   "metadata": {
    "collapsed": false
   }
  }
 ],
 "metadata": {
  "kernelspec": {
   "display_name": "Python 3",
   "language": "python",
   "name": "python3"
  },
  "language_info": {
   "codemirror_mode": {
    "name": "ipython",
    "version": 2
   },
   "file_extension": ".py",
   "mimetype": "text/x-python",
   "name": "python",
   "nbconvert_exporter": "python",
   "pygments_lexer": "ipython2",
   "version": "2.7.6"
  }
 },
 "nbformat": 4,
 "nbformat_minor": 0
}
