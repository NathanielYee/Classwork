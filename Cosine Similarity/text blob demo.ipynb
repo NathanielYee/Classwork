{
 "cells": [
  {
   "cell_type": "code",
   "execution_count": 3,
   "metadata": {
    "collapsed": true,
    "ExecuteTime": {
     "end_time": "2023-05-31T17:14:27.383905Z",
     "start_time": "2023-05-31T17:14:26.323803Z"
    }
   },
   "outputs": [
    {
     "name": "stderr",
     "output_type": "stream",
     "text": [
      "[nltk_data] Downloading package punkt to\n",
      "[nltk_data]     /Users/nathanielyee/nltk_data...\n",
      "[nltk_data]   Unzipping tokenizers/punkt.zip.\n"
     ]
    },
    {
     "data": {
      "text/plain": "True"
     },
     "execution_count": 3,
     "metadata": {},
     "output_type": "execute_result"
    }
   ],
   "source": [
    "from textblob import TextBlob\n",
    "import nltk\n",
    "nltk.download('punkt')"
   ]
  },
  {
   "cell_type": "markdown",
   "source": [],
   "metadata": {
    "collapsed": false
   }
  },
  {
   "cell_type": "code",
   "execution_count": 5,
   "outputs": [
    {
     "name": "stdout",
     "output_type": "stream",
     "text": [
      "\n",
      "Sentiment Analysis:\n",
      "Polarity: -0.75, Subjectivity: 0.75\n"
     ]
    }
   ],
   "source": [
    "# Create some text\n",
    "text = \"The weather is awful today. I despise the smell of stale air in the morning.\"\n",
    "\n",
    "\n",
    "# create a textblob objectr\n",
    "blob = TextBlob(text)\n",
    "\n",
    "# sentiment\n",
    "print(\"\\nSentiment Analysis:\")\n",
    "print(f\"Polarity: {blob.sentiment.polarity}, Subjectivity: {blob.sentiment.subjectivity}\")"
   ],
   "metadata": {
    "collapsed": false,
    "ExecuteTime": {
     "end_time": "2023-05-31T17:18:08.689727Z",
     "start_time": "2023-05-31T17:18:08.684835Z"
    }
   }
  },
  {
   "cell_type": "code",
   "execution_count": 7,
   "outputs": [
    {
     "name": "stdout",
     "output_type": "stream",
     "text": [
      "Part of speech tagging\n",
      "[('The', 'DT'), ('weather', 'NN'), ('is', 'VBZ'), ('awful', 'JJ'), ('today', 'NN'), ('I', 'PRP'), ('despise', 'VBP'), ('the', 'DT'), ('smell', 'NN'), ('of', 'IN'), ('stale', 'JJ'), ('air', 'NN'), ('in', 'IN'), ('the', 'DT'), ('morning', 'NN')]\n",
      "Noun Phrase Extraction\n",
      "['stale air']\n"
     ]
    }
   ],
   "source": [
    "print('Part of speech tagging')\n",
    "print(blob.tags)\n",
    "print('Noun Phrase Extraction')\n",
    "print(blob.noun_phrases)"
   ],
   "metadata": {
    "collapsed": false,
    "ExecuteTime": {
     "end_time": "2023-05-31T17:20:59.184372Z",
     "start_time": "2023-05-31T17:20:57.134601Z"
    }
   }
  },
  {
   "cell_type": "markdown",
   "source": [],
   "metadata": {
    "collapsed": false
   }
  },
  {
   "cell_type": "code",
   "execution_count": null,
   "outputs": [],
   "source": [],
   "metadata": {
    "collapsed": false
   }
  }
 ],
 "metadata": {
  "kernelspec": {
   "display_name": "Python 3",
   "language": "python",
   "name": "python3"
  },
  "language_info": {
   "codemirror_mode": {
    "name": "ipython",
    "version": 2
   },
   "file_extension": ".py",
   "mimetype": "text/x-python",
   "name": "python",
   "nbconvert_exporter": "python",
   "pygments_lexer": "ipython2",
   "version": "2.7.6"
  }
 },
 "nbformat": 4,
 "nbformat_minor": 0
}
