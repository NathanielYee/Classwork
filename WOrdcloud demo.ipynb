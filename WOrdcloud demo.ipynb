{
 "cells": [
  {
   "cell_type": "code",
   "execution_count": null,
   "metadata": {
    "collapsed": true
   },
   "outputs": [],
   "source": [
    "# Word cloud demo\n",
    "# Creating and Configuring different types of word clouds\n",
    "# Subplotting to create arrays of plots"
   ]
  },
  {
   "cell_type": "code",
   "execution_count": 2,
   "outputs": [],
   "source": [
    "import wordcloud as wc\n",
    "import matplotlib.pyplot as plt\n",
    "import numpy as np\n",
    "from PIL import Image"
   ],
   "metadata": {
    "collapsed": false,
    "ExecuteTime": {
     "end_time": "2023-05-24T15:55:46.907700Z",
     "start_time": "2023-05-24T15:55:46.901209Z"
    }
   }
  },
  {
   "cell_type": "code",
   "execution_count": null,
   "outputs": [],
   "source": [
    "# read text from a file\n",
    "\n",
    "def readtext(filename):\n",
    "    '''\n",
    "    Read a text file intoa string\n",
    "    filename the name of the file\n",
    "    return the string\n",
    "    '''\n",
    "    with open(filename,'r') as file:\n",
    "        text = file.read()\n",
    "        return text"
   ],
   "metadata": {
    "collapsed": false
   }
  },
  {
   "cell_type": "code",
   "execution_count": 3,
   "outputs": [
    {
     "ename": "NameError",
     "evalue": "name 'readtext' is not defined",
     "output_type": "error",
     "traceback": [
      "\u001B[0;31m---------------------------------------------------------------------------\u001B[0m",
      "\u001B[0;31mNameError\u001B[0m                                 Traceback (most recent call last)",
      "Cell \u001B[0;32mIn[3], line 1\u001B[0m\n\u001B[0;32m----> 1\u001B[0m hamilton \u001B[38;5;241m=\u001B[39m \u001B[43mreadtext\u001B[49m(\u001B[38;5;124m'\u001B[39m\u001B[38;5;124mhamilton.txt\u001B[39m\u001B[38;5;124m'\u001B[39m)\n\u001B[1;32m      2\u001B[0m hamilton\n",
      "\u001B[0;31mNameError\u001B[0m: name 'readtext' is not defined"
     ]
    }
   ],
   "source": [
    "hamilton = readtext('hamilton.txt')\n",
    "hamilton"
   ],
   "metadata": {
    "collapsed": false,
    "ExecuteTime": {
     "end_time": "2023-05-24T15:59:13.292817Z",
     "start_time": "2023-05-24T15:59:12.864505Z"
    }
   }
  },
  {
   "cell_type": "code",
   "execution_count": null,
   "outputs": [],
   "source": [],
   "metadata": {
    "collapsed": false
   }
  }
 ],
 "metadata": {
  "kernelspec": {
   "display_name": "Python 3",
   "language": "python",
   "name": "python3"
  },
  "language_info": {
   "codemirror_mode": {
    "name": "ipython",
    "version": 2
   },
   "file_extension": ".py",
   "mimetype": "text/x-python",
   "name": "python",
   "nbconvert_exporter": "python",
   "pygments_lexer": "ipython2",
   "version": "2.7.6"
  }
 },
 "nbformat": 4,
 "nbformat_minor": 0
}
