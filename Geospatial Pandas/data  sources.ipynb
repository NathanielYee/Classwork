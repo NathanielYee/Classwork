{
 "cells": [
  {
   "cell_type": "code",
   "execution_count": 1,
   "metadata": {
    "collapsed": true,
    "ExecuteTime": {
     "end_time": "2023-06-12T16:12:16.516477Z",
     "start_time": "2023-06-12T16:12:16.153779Z"
    }
   },
   "outputs": [],
   "source": [
    "import pandas as pd"
   ]
  },
  {
   "cell_type": "code",
   "execution_count": 3,
   "outputs": [
    {
     "data": {
      "text/plain": "  Student  HW1  HW2  HW3\n0     Ann   95  100   99\n1     Bob   87   67   89\n2     Cam   55    0   75",
      "text/html": "<div>\n<style scoped>\n    .dataframe tbody tr th:only-of-type {\n        vertical-align: middle;\n    }\n\n    .dataframe tbody tr th {\n        vertical-align: top;\n    }\n\n    .dataframe thead th {\n        text-align: right;\n    }\n</style>\n<table border=\"1\" class=\"dataframe\">\n  <thead>\n    <tr style=\"text-align: right;\">\n      <th></th>\n      <th>Student</th>\n      <th>HW1</th>\n      <th>HW2</th>\n      <th>HW3</th>\n    </tr>\n  </thead>\n  <tbody>\n    <tr>\n      <th>0</th>\n      <td>Ann</td>\n      <td>95</td>\n      <td>100</td>\n      <td>99</td>\n    </tr>\n    <tr>\n      <th>1</th>\n      <td>Bob</td>\n      <td>87</td>\n      <td>67</td>\n      <td>89</td>\n    </tr>\n    <tr>\n      <th>2</th>\n      <td>Cam</td>\n      <td>55</td>\n      <td>0</td>\n      <td>75</td>\n    </tr>\n  </tbody>\n</table>\n</div>"
     },
     "execution_count": 3,
     "metadata": {},
     "output_type": "execute_result"
    }
   ],
   "source": [
    "grades = pd.read_excel('grades.xlsx', sheet_name='Grades')\n",
    "grades"
   ],
   "metadata": {
    "collapsed": false,
    "ExecuteTime": {
     "end_time": "2023-06-12T16:12:29.260459Z",
     "start_time": "2023-06-12T16:12:29.120382Z"
    }
   }
  },
  {
   "cell_type": "code",
   "execution_count": 2,
   "outputs": [],
   "source": [
    "import json\n",
    "with open(\"example.json\") as json_example:\n"
   ],
   "metadata": {
    "collapsed": false,
    "ExecuteTime": {
     "end_time": "2023-06-12T16:12:16.519133Z",
     "start_time": "2023-06-12T16:12:16.517014Z"
    }
   }
  },
  {
   "cell_type": "code",
   "execution_count": null,
   "outputs": [],
   "source": [
    "data['users'][1]"
   ],
   "metadata": {
    "collapsed": false
   }
  },
  {
   "cell_type": "code",
   "execution_count": null,
   "outputs": [],
   "source": [
    "data['users'][1]['age']"
   ],
   "metadata": {
    "collapsed": false
   }
  },
  {
   "cell_type": "code",
   "execution_count": 7,
   "outputs": [],
   "source": [
    "import requests\n",
    "import json"
   ],
   "metadata": {
    "collapsed": false,
    "ExecuteTime": {
     "end_time": "2023-06-12T16:31:18.100290Z",
     "start_time": "2023-06-12T16:31:18.028446Z"
    }
   }
  },
  {
   "cell_type": "code",
   "execution_count": 8,
   "outputs": [
    {
     "name": "stdout",
     "output_type": "stream",
     "text": [
      "<Response [403]>\n",
      "{'reason': 'private', 'message': 'Forbidden', 'error': 403}\n"
     ]
    }
   ],
   "source": [
    "# step 1: define the endpoint (location of the API on the internet)\n",
    "\n",
    "url = 'https://www.reddit.com/r/cats/new.json'\n",
    "\n",
    "# define parameters\n",
    "my_params = {'limit':10}\n",
    "\n",
    "# step 3: define any required headers (might be none)\n",
    "my_headers = {'User-agent': \"An API call demonstration for Northeastern DS 2500\"}\n",
    "\n",
    "# Step 4 make the services API!\n",
    "response = requests.get(url,headers=my_headers, params=my_params)\n",
    "\n",
    "print(response)\n",
    "print(response.json())"
   ],
   "metadata": {
    "collapsed": false,
    "ExecuteTime": {
     "end_time": "2023-06-12T16:31:19.771606Z",
     "start_time": "2023-06-12T16:31:19.431119Z"
    }
   }
  },
  {
   "cell_type": "code",
   "execution_count": null,
   "outputs": [],
   "source": [],
   "metadata": {
    "collapsed": false
   }
  }
 ],
 "metadata": {
  "kernelspec": {
   "display_name": "Python 3",
   "language": "python",
   "name": "python3"
  },
  "language_info": {
   "codemirror_mode": {
    "name": "ipython",
    "version": 2
   },
   "file_extension": ".py",
   "mimetype": "text/x-python",
   "name": "python",
   "nbconvert_exporter": "python",
   "pygments_lexer": "ipython2",
   "version": "2.7.6"
  }
 },
 "nbformat": 4,
 "nbformat_minor": 0
}
