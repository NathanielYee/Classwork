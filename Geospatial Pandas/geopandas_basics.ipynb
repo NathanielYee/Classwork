{
 "cells": [
  {
   "cell_type": "code",
   "execution_count": 2,
   "metadata": {
    "collapsed": true,
    "ExecuteTime": {
     "end_time": "2023-06-12T16:58:18.849335Z",
     "start_time": "2023-06-12T16:58:17.349651Z"
    }
   },
   "outputs": [],
   "source": [
    "import geopandas as gpd\n",
    "import matplotlib.pyplot as plt"
   ]
  },
  {
   "cell_type": "code",
   "execution_count": 7,
   "outputs": [
    {
     "data": {
      "text/plain": "        OBJECTID         TYPE                    geometry\n0              1    PARK-TREE  POINT (-71.05766 42.35487)\n1              2    PARK-TREE  POINT (-71.05770 42.35488)\n2              3    PARK-TREE  POINT (-71.05780 42.35478)\n3              4  STREET-TREE  POINT (-71.05629 42.35474)\n4              5  STREET-TREE  POINT (-71.05631 42.35482)\n...          ...          ...                         ...\n201840    201841    PARK-TREE  POINT (-71.04326 42.37079)\n201841    201842    PARK-TREE  POINT (-71.04351 42.37083)\n201842    201843    PARK-TREE  POINT (-71.04359 42.37087)\n201843    201844    PARK-TREE  POINT (-71.06200 42.37138)\n201844    201845  STREET-TREE  POINT (-71.06003 42.37138)\n\n[201845 rows x 3 columns]",
      "text/html": "<div>\n<style scoped>\n    .dataframe tbody tr th:only-of-type {\n        vertical-align: middle;\n    }\n\n    .dataframe tbody tr th {\n        vertical-align: top;\n    }\n\n    .dataframe thead th {\n        text-align: right;\n    }\n</style>\n<table border=\"1\" class=\"dataframe\">\n  <thead>\n    <tr style=\"text-align: right;\">\n      <th></th>\n      <th>OBJECTID</th>\n      <th>TYPE</th>\n      <th>geometry</th>\n    </tr>\n  </thead>\n  <tbody>\n    <tr>\n      <th>0</th>\n      <td>1</td>\n      <td>PARK-TREE</td>\n      <td>POINT (-71.05766 42.35487)</td>\n    </tr>\n    <tr>\n      <th>1</th>\n      <td>2</td>\n      <td>PARK-TREE</td>\n      <td>POINT (-71.05770 42.35488)</td>\n    </tr>\n    <tr>\n      <th>2</th>\n      <td>3</td>\n      <td>PARK-TREE</td>\n      <td>POINT (-71.05780 42.35478)</td>\n    </tr>\n    <tr>\n      <th>3</th>\n      <td>4</td>\n      <td>STREET-TREE</td>\n      <td>POINT (-71.05629 42.35474)</td>\n    </tr>\n    <tr>\n      <th>4</th>\n      <td>5</td>\n      <td>STREET-TREE</td>\n      <td>POINT (-71.05631 42.35482)</td>\n    </tr>\n    <tr>\n      <th>...</th>\n      <td>...</td>\n      <td>...</td>\n      <td>...</td>\n    </tr>\n    <tr>\n      <th>201840</th>\n      <td>201841</td>\n      <td>PARK-TREE</td>\n      <td>POINT (-71.04326 42.37079)</td>\n    </tr>\n    <tr>\n      <th>201841</th>\n      <td>201842</td>\n      <td>PARK-TREE</td>\n      <td>POINT (-71.04351 42.37083)</td>\n    </tr>\n    <tr>\n      <th>201842</th>\n      <td>201843</td>\n      <td>PARK-TREE</td>\n      <td>POINT (-71.04359 42.37087)</td>\n    </tr>\n    <tr>\n      <th>201843</th>\n      <td>201844</td>\n      <td>PARK-TREE</td>\n      <td>POINT (-71.06200 42.37138)</td>\n    </tr>\n    <tr>\n      <th>201844</th>\n      <td>201845</td>\n      <td>STREET-TREE</td>\n      <td>POINT (-71.06003 42.37138)</td>\n    </tr>\n  </tbody>\n</table>\n<p>201845 rows × 3 columns</p>\n</div>"
     },
     "execution_count": 7,
     "metadata": {},
     "output_type": "execute_result"
    }
   ],
   "source": [
    "trees = gpd.read_file('trees.geojson')\n",
    "trees"
   ],
   "metadata": {
    "collapsed": false,
    "ExecuteTime": {
     "end_time": "2023-06-12T17:01:14.105224Z",
     "start_time": "2023-06-12T17:01:01.239221Z"
    }
   }
  },
  {
   "cell_type": "code",
   "execution_count": 8,
   "outputs": [
    {
     "data": {
      "text/plain": "geopandas.geodataframe.GeoDataFrame"
     },
     "execution_count": 8,
     "metadata": {},
     "output_type": "execute_result"
    }
   ],
   "source": [
    "type(trees)"
   ],
   "metadata": {
    "collapsed": false,
    "ExecuteTime": {
     "end_time": "2023-06-12T17:01:16.457683Z",
     "start_time": "2023-06-12T17:01:16.448102Z"
    }
   }
  },
  {
   "cell_type": "code",
   "execution_count": 10,
   "outputs": [
    {
     "name": "stdout",
     "output_type": "stream",
     "text": [
      "TYPE\n",
      "STREET-TREE    148528\n",
      "PARK-TREE       53317\n",
      "Name: count, dtype: int64\n"
     ]
    }
   ],
   "source": [
    "tree_counts = trees['TYPE'].value_counts()\n",
    "print(tree_counts)"
   ],
   "metadata": {
    "collapsed": false,
    "ExecuteTime": {
     "end_time": "2023-06-12T17:02:25.172205Z",
     "start_time": "2023-06-12T17:02:25.152698Z"
    }
   }
  },
  {
   "cell_type": "code",
   "execution_count": 11,
   "outputs": [
    {
     "data": {
      "text/plain": "<Axes: xlabel='TYPE'>"
     },
     "execution_count": 11,
     "metadata": {},
     "output_type": "execute_result"
    },
    {
     "data": {
      "text/plain": "<Figure size 640x480 with 1 Axes>",
      "image/png": "[encoded data removed]"
     },
     "metadata": {},
     "output_type": "display_data"
    }
   ],
   "source": [
    "tree_counts.plot(kind='bar')"
   ],
   "metadata": {
    "collapsed": false,
    "ExecuteTime": {
     "end_time": "2023-06-12T17:03:14.932098Z",
     "start_time": "2023-06-12T17:03:14.795868Z"
    }
   }
  },
  {
   "cell_type": "code",
   "execution_count": 29,
   "outputs": [],
   "source": [
    "park = trees[trees.TYPE=='PARK-TREE']\n",
    "street = trees[trees.TYPE=='STREET-TREE']\n",
    "#plt.figure(figsize=(10,10),dpi=200)\n",
    "fig, ax = plt.subplots(figsize=(10,10),dpi=200)\n",
    "park.plot(ax=ax,marker='.',markersize=1, color='g')\n",
    "street.plot(ax=ax,marker='.',markersize=1, color='b')\n",
    "plt.show()"
   ],
   "metadata": {
    "collapsed": false
   }
  },
  {
   "cell_type": "markdown",
   "source": [],
   "metadata": {
    "collapsed": false
   }
  },
  {
   "cell_type": "code",
   "execution_count": 31,
   "outputs": [],
   "source": [
    "park = trees[trees.TYPE=='PARK-TREE']\n",
    "street = trees[trees.TYPE=='STREET-TREE']\n",
    "\n",
    "fig,ax = plt.subplots(figsize=(10,10), dpi=200)\n",
    "park.plot(ax=ax, marker='o', color='g', markersize=1, label='PARK-TREE')\n",
    "street.plot(ax=ax, marker='o', color='b', markersize=1, label='STREET-TREE')\n",
    "ax.plot(-71.0892, 42.3398, 'X', color='red', label='Northeastern')\n",
    "\n",
    "plt.legend()\n",
    "plt.title(\"Map of tree locations\")\n",
    "plt.grid()\n",
    "plt.show()"
   ],
   "metadata": {
    "collapsed": false
   }
  },
  {
   "cell_type": "code",
   "execution_count": null,
   "outputs": [],
   "source": [],
   "metadata": {
    "collapsed": false
   }
  }
 ],
 "metadata": {
  "kernelspec": {
   "display_name": "Python 3",
   "language": "python",
   "name": "python3"
  },
  "language_info": {
   "codemirror_mode": {
    "name": "ipython",
    "version": 2
   },
   "file_extension": ".py",
   "mimetype": "text/x-python",
   "name": "python",
   "nbconvert_exporter": "python",
   "pygments_lexer": "ipython2",
   "version": "2.7.6"
  }
 },
 "nbformat": 4,
 "nbformat_minor": 0
}
